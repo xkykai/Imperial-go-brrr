{
 "cells": [
  {
   "cell_type": "markdown",
   "metadata": {},
   "source": [
    "# 🔥 ♦️ ♥️ 🌟 World Famous 3-player Quantum Poker ♦️ ♥️ 🌟🔥  "
   ]
  },
  {
   "cell_type": "markdown",
   "metadata": {},
   "source": [
    "### By Xin Kai Lee, Jacob Knight, & Catherine Ji "
   ]
  },
  {
   "cell_type": "raw",
   "metadata": {},
   "source": [
    "                          )                  *                     (    (        )     )   \n",
    "   (            (      ( /(   *   )        (  `       (     (      )\\ ) )\\ )  ( /(  ( /(   \n",
    " ( )\\      (    )\\     )\\())` )  /(    (   )\\))(      )\\    )\\    (()/((()/(  )\\()) )\\())  \n",
    " )((_)     )\\((((_)(  ((_)\\  ( )(_))   )\\ ((_)()\\   (((_)((((_)(   /(_))/(_))((_)\\ ((_)\\   \n",
    "((_)_   _ ((_))\\ _ )\\  _((_)(_(_()) _ ((_)(_()((_)  )\\___ )\\ _ )\\ (_)) (_))   _((_)  ((_)  \n",
    " / _ \\ | | | |(_)_\\(_)| \\| ||_   _|| | | ||  \\/  | ((/ __|(_)_\\(_)/ __||_ _| | \\| | / _ \\  \n",
    "| (_) || |_| | / _ \\  | .` |  | |  | |_| || |\\/| |  | (__  / _ \\  \\__ \\ | |  | .` || (_) | \n",
    " \\__\\_\\ \\___/ /_/ \\_\\ |_|\\_|  |_|   \\___/ |_|  |_|   \\___|/_/ \\_\\ |___/|___| |_|\\_| \\___/   "
   ]
  },
  {
   "cell_type": "markdown",
   "metadata": {},
   "source": [
    "## Packages"
   ]
  },
  {
   "cell_type": "code",
   "execution_count": 1,
   "metadata": {},
   "outputs": [],
   "source": [
    "import gates as gt\n",
    "import circuit as ct\n",
    "import random\n",
    "\n",
    "import matplotlib\n",
    "# matplotlib.use(\"TkAgg\")\n",
    "# from matplotlib.backends.backend_tkagg import FigureCanvasTkAgg\n",
    "# from matplotlib.figure import Figure\n",
    "# import only system from os \n",
    "from os import system, name \n",
    "\n",
    "# import sleep to show output for some time period \n",
    "from time import sleep \n",
    "from qiskit.visualization import plot_histogram\n",
    "from IPython.display import clear_output"
   ]
  },
  {
   "cell_type": "markdown",
   "metadata": {},
   "source": [
    "## Frontend functions"
   ]
  },
  {
   "cell_type": "markdown",
   "metadata": {},
   "source": [
    "Main functions for the frontend are in this section."
   ]
  },
  {
   "cell_type": "code",
   "execution_count": 9,
   "metadata": {},
   "outputs": [],
   "source": [
    "class player:\n",
    "    def __init__(self,hand,points):\n",
    "        self.hand = hand\n",
    "        self.points = points\n",
    "\n",
    "def options(c,card,end_sw):\n",
    "    gate = None\n",
    "    qubits = [0,1,2]\n",
    "\n",
    "    if card == \"Hadamard\":\n",
    "        print(f\"choose target: {qubits}\")\n",
    "        target = int(input())\n",
    "        gate = gt.HadamardGate(target)\n",
    "        qubits.remove(target)\n",
    "    elif card == \"XGate\":\n",
    "        print(f\"choose target: {qubits}\")\n",
    "        target = int(input())\n",
    "        gate = gt.XGate(target)\n",
    "        qubits.remove(target)\n",
    "    elif card == \"CNOT\":\n",
    "        print(f\"choose control: {qubits}\")\n",
    "        control = int(input())\n",
    "        qubits.remove(control)\n",
    "        print(f\"choose target: {qubits}\")\n",
    "        target = int(input())\n",
    "        gate = gt.CNOTGate(control,target)\n",
    "        qubits.remove(target)\n",
    "    elif card == \"Toffoli\":\n",
    "        print(f\"choose control 1: {qubits}\")\n",
    "        control1 = int(input())\n",
    "        qubits.remove(control1)\n",
    "        print(f\"choose control 2: {qubits}\")\n",
    "        control2 = int(input())\n",
    "        qubits.remove(control2)\n",
    "        print(f\"choose target: {qubits}\")\n",
    "        target = int(input())\n",
    "        gate = gt.ToffoliGate([control1,control2],target)\n",
    "    elif card == \"SWAP\":\n",
    "        print(f\"choose control 1: {qubits}\")\n",
    "        control1 = int(input())\n",
    "        qubits.remove(control1)\n",
    "        print(f\"choose control 2: {qubits}\")\n",
    "        control2 = int(input())\n",
    "        qubits.remove(control2)\n",
    "        gate = gt.SWAPGate([control1,control2])\n",
    "    elif card == \"Measure\":\n",
    "        end_sw = end_game_seq(c,end_sw)\n",
    "        \n",
    "    return gate, end_sw\n",
    "    \n",
    "def play_card(c,player,gate,card):\n",
    "    c.apply_gate(gate)\n",
    "    if player.hand[card] == 1:\n",
    "        player.hand.pop(card)\n",
    "    else:\n",
    "        player.hand[card] -= 1\n",
    "\n",
    "def display_card(player):\n",
    "    print(player.hand)\n",
    "\n",
    "def end_game_seq(c,end_sw):\n",
    "    clear_output(wait=False)\n",
    "    c.apply_gate(gt.MeasureGate())\n",
    "    fig = c.draw()\n",
    "    print(c.draw())\n",
    "    print(\"Waiting for results from IonQ . . . . .\")\n",
    "    end_sw = 1\n",
    "#     result = c.simulate()\n",
    "    result = c.run()\n",
    "    print(f\"RESULTS: {result.get_counts()}\")\n",
    "    return end_sw\n",
    "\n",
    "def init_shuffle():\n",
    "    arr = [\"SWAP\",\"Hadamard\",\"Toffoli\",\"XGate\",\"XGate\",\"XGate\",\"CNOT\",\"CNOT\",\"CNOT\"]\n",
    "    random.shuffle(arr)\n",
    "\n",
    "    h = [{},{},{}]\n",
    "    for i in range(3):\n",
    "        curr_p = h[i]\n",
    "        curr_p[\"Measure\"] = 1\n",
    "        for j in range(3):\n",
    "            temp = arr[(3 * i) + j]\n",
    "            if temp not in curr_p:\n",
    "                curr_p[arr[(3 * i) + j]] = 1\n",
    "            else:\n",
    "                curr_p[arr[(3 * i) + j]] += 1\n",
    "    \n",
    "    return h\n",
    "\n",
    "def ind_round(player_arr,curr_player,control,target):\n",
    "    \n",
    "    p1,p2,p3 = player_arr\n",
    "    if (len(p1.hand) == 0 and len(p2.hand) == 0 and len(p3.hand) == 0):\n",
    "        end_game_seq()\n",
    "  \n",
    "    player = player_arr[curr_player]\n",
    "    \n",
    "    while len(player.hand) == 0:\n",
    "        curr_player += 1\n",
    "        curr_player = curr_player % 3\n",
    "        player = player_arr[curr_player]\n",
    "\n",
    "    display_card(player)\n",
    "    \n",
    "#     if player clicks on card:\n",
    "    card = random.sample(list(player.hand), 1)[0] #change this\n",
    "    gate_appl = options(card,control,target)\n",
    "    play_card(player,gate_appl,card)\n",
    "\n",
    "    display_card(player)\n",
    "    curr_player += 1\n",
    "    curr_player = player % 3\n",
    "    \n",
    "    return curr_player\n",
    "\n",
    "def init_func():\n",
    "    house = 0\n",
    "    end_sw = 0\n",
    "    rn = 0\n",
    "    \n",
    "    curr_player = 0\n",
    "    hands = init_shuffle()\n",
    "    p1 = player(hands[0],0)\n",
    "    p2 = player(hands[1],0)\n",
    "    p3 = player(hands[2],0)\n",
    "\n",
    "    player_arr = [p1,p2,p3]\n",
    "\n",
    "    c = ct.Circuit()\n",
    "    return c,house,end_sw,curr_player,player_arr,rn\n",
    "#initializing\n",
    "\n",
    "def check_card(card,rn,arr):\n",
    "    sw = 0\n",
    "    if (card == \"Measure\" and rn < 3):\n",
    "        sw = 1\n",
    "    if card not in arr:\n",
    "        sw = 1\n",
    "        \n",
    "    return sw"
   ]
  },
  {
   "cell_type": "markdown",
   "metadata": {},
   "source": [
    "## Main game function"
   ]
  },
  {
   "cell_type": "markdown",
   "metadata": {},
   "source": [
    "Feel free to play.... if you dare 😈 "
   ]
  },
  {
   "cell_type": "code",
   "execution_count": null,
   "metadata": {
    "scrolled": true
   },
   "outputs": [
    {
     "name": "stdout",
     "output_type": "stream",
     "text": [
      "-----Begin Game-----\n",
      "*** Player 0 ***\n",
      "Press Enter to continue\n"
     ]
    }
   ],
   "source": [
    "def main():\n",
    "    print(\"-----Begin Game-----\")\n",
    "    c,house,end_sw,curr_player,player_arr,rn = init_func()\n",
    "    \n",
    "    #Rounds\n",
    "    while end_sw == 0:\n",
    "        p1,p2,p3 = player_arr\n",
    "        if (len(p1.hand) == 0 and len(p2.hand) == 0 and len(p3.hand) == 0):\n",
    "            end_game_seq()\n",
    "\n",
    "        player = player_arr[curr_player]\n",
    "\n",
    "        print(f\"*** Player {curr_player} ***\")\n",
    "        print(\"Press Enter to continue\")\n",
    "        input()\n",
    "\n",
    "        print(\"These are your cards\")\n",
    "        cards = player_arr[curr_player].hand\n",
    "        print(cards)\n",
    "        fig = c.draw()\n",
    "        print(c.draw())\n",
    "        \n",
    "        sw = 0\n",
    "        print(f\"choose from one option: {player.hand.keys()}\")\n",
    "        choice = input()\n",
    "        sw = check_card(choice,rn,player.hand)\n",
    "        \n",
    "        while sw == 1:\n",
    "            print(\"Bad selection, pick another card\")\n",
    "            print(f\"choose from one option: {player.hand.keys()}\")\n",
    "            choice = input()\n",
    "            sw = check_card(choice,rn,player.hand)\n",
    "        \n",
    "        gate_appl,end_sw = options(c,choice,end_sw)\n",
    "        play_card(c,player,gate_appl,choice)\n",
    "    \n",
    "        print(f\"===END OF TURN, Round: {rn}===\")\n",
    "        \n",
    "        if end_sw == 0:\n",
    "            clear_output(wait=False)\n",
    "\n",
    "        curr_player += 1\n",
    "        curr_player = curr_player % 3\n",
    "        rn += 1\n",
    "\n",
    "main()   "
   ]
  },
  {
   "cell_type": "raw",
   "metadata": {},
   "source": [
    "            )             )      )  (              (    (                  )  (        )          \n",
    "  *   )  ( /(   (      ( /(   ( /(  )\\ )       )   )\\ ) )\\ )    (       ( /(  )\\ )  ( /(  (       \n",
    "` )  /(  )\\())  )\\     )\\())  )\\())(()/(    ( /(  (()/((()/(    )\\      )\\())(()/(  )\\()) )\\ )    \n",
    " ( )(_))((_)\\((((_)(  ((_)\\ |((_)\\  /(_))   )\\())  /(_))/(_))((((_)(   ((_)\\  /(_))((_)\\ (()/(    \n",
    "(_(_())  _((_))\\ _ )\\  _((_)|_ ((_)(_))    ((_)\\  (_)) (_))   )\\ _ )\\ __ ((_)(_))   _((_) /(_))_  \n",
    "|_   _| | || |(_)_\\(_)| \\| || |/ / / __|  | | (_) | _ \\| |    (_)_\\(_)\\ \\ / /|_ _| | \\| |(_)) __| \n",
    "  | |   | __ | / _ \\  | .` |  ' <  \\__ \\  |_  _|  |  _/| |__   / _ \\   \\ V /  | |  | .` |  | (_ | \n",
    "  |_|   |_||_|/_/ \\_\\ |_|\\_| _|\\_\\ |___/    |_|   |_|  |____| /_/ \\_\\   |_|  |___| |_|\\_|   \\___|"
   ]
  }
 ],
 "metadata": {
  "@webio": {
   "lastCommId": null,
   "lastKernelId": null
  },
  "kernelspec": {
   "display_name": "Python 3",
   "language": "python",
   "name": "python3"
  },
  "language_info": {
   "codemirror_mode": {
    "name": "ipython",
    "version": 3
   },
   "file_extension": ".py",
   "mimetype": "text/x-python",
   "name": "python",
   "nbconvert_exporter": "python",
   "pygments_lexer": "ipython3",
   "version": "3.7.9"
  }
 },
 "nbformat": 4,
 "nbformat_minor": 2
}
